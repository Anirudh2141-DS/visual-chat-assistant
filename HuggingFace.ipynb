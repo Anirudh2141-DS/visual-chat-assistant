{
 "cells": [
  {
   "cell_type": "code",
   "execution_count": null,
   "id": "1e417593-073a-4568-8c4f-40c2d0e47e86",
   "metadata": {},
   "outputs": [],
   "source": [
    "# ===== Install necessary packages (Run this once) =====\n",
    "!pip install torch torchvision pillow bitsandbytes sentencepiece \\\n",
    "huggingface_hub fairscale fire blobfile \\\n",
    "transformers accelerate requests scikit-learn pandas \\\n",
    "streamlit"
   ]
  },
  {
   "cell_type": "code",
   "execution_count": null,
   "id": "d59645b0-8c31-4e23-b42f-0c638471a594",
   "metadata": {},
   "outputs": [],
   "source": [
    "# ===== Import Libraries =====\n",
    "import pandas as pd\n",
    "import smtplib\n",
    "from email.mime.text import MIMEText\n",
    "import torch\n",
    "import torch.nn.functional as F\n",
    "from PIL import Image\n",
    "import requests\n",
    "from transformers import AutoModelForCausalLM, AutoProcessor, AutoTokenizer, CLIPProcessor, CLIPModel, pipeline\n",
    "from datetime import datetime\n",
    "import os\n",
    "import pickle\n",
    "import pandas as pd\n",
    "from sklearn.cluster import KMeans\n",
    "import logging\n",
    "import streamlit as st"
   ]
  },
  {
   "cell_type": "code",
   "execution_count": null,
   "id": "316a7eb5-b7d9-4559-b345-472c3724bac9",
   "metadata": {},
   "outputs": [],
   "source": [
    "# ===== Device Management =====\n",
    "device = \"cuda\" if torch.cuda.is_available() else \"cpu\"\n",
    "print(f\"Using device: {device}\")"
   ]
  },
  {
   "cell_type": "code",
   "execution_count": null,
   "id": "6c213f77-a5c9-431a-8269-e223cb03a290",
   "metadata": {},
   "outputs": [],
   "source": [
    "from huggingface_hub import login\n",
    "import os\n",
    "login(token=os.getenv('HF_TOKEN'))  # Secure token from environment variable"
   ]
  },
  {
   "cell_type": "code",
   "execution_count": null,
   "id": "9149847a-a7e6-4f9e-9ffe-8966b8260e69",
   "metadata": {},
   "outputs": [],
   "source": [
    "# ===== Load Models ====="
   ]
  },
  {
   "cell_type": "code",
   "execution_count": null,
   "id": "1b09476d-36ad-4ecb-8571-93d579b727a3",
   "metadata": {},
   "outputs": [],
   "source": [
    "# LLaMA-3 Vision Model\n",
    "model_id = \"meta-llama/Llama-3.2-11B-Vision-Instruct\"\n",
    "model = AutoModelForCausalLM.from_pretrained(\n",
    "    model_id, torch_dtype=torch.float16 if device == \"cuda\" else torch.float32, device_map=\"auto\"\n",
    ").to(device)\n",
    "processor = AutoProcessor.from_pretrained(model_id)\n",
    "tokenizer = AutoTokenizer.from_pretrained(model_id)"
   ]
  },
  {
   "cell_type": "code",
   "execution_count": null,
   "id": "983774d6-3ae2-4cb1-8f86-e50df765ee74",
   "metadata": {},
   "outputs": [],
   "source": [
    "# CLIP for similarity\n",
    "clip_model = CLIPModel.from_pretrained(\"openai/clip-vit-base-patch32\").to(device)\n",
    "clip_processor = CLIPProcessor.from_pretrained(\"openai/clip-vit-base-patch32\")"
   ]
  },
  {
   "cell_type": "code",
   "execution_count": null,
   "id": "9f905b3c-1179-4705-8dc3-de0b5e9ffbf0",
   "metadata": {},
   "outputs": [],
   "source": [
    "# Object detection pipeline (DETR)\n",
    "object_detector = pipeline(\"object-detection\", model=\"facebook/detr-resnet-50\")"
   ]
  },
  {
   "cell_type": "code",
   "execution_count": null,
   "id": "14f960b0-1b44-4ee9-8745-31c248784f6b",
   "metadata": {},
   "outputs": [],
   "source": [
    "# Emotion classifier\n",
    "emotion_classifier = pipeline('image-classification', model='trpakov/vit-face-expression')"
   ]
  },
  {
   "cell_type": "code",
   "execution_count": null,
   "id": "db04c819-e7e9-47d6-976c-f45f7a05690a",
   "metadata": {},
   "outputs": [],
   "source": [
    "# Helper function\n",
    "def load_image_from_url(url):\n",
    "    try:\n",
    "        response = requests.get(url, stream=True)\n",
    "        response.raise_for_status()\n",
    "        return Image.open(response.raw).convert(\"RGB\")\n",
    "    except requests.exceptions.RequestException as e:\n",
    "        print(f\"Failed to load image: {e}\")\n",
    "        return None"
   ]
  },
  {
   "cell_type": "code",
   "execution_count": null,
   "id": "745b0b1e-f4db-4a0c-afd1-c49e905b64a6",
   "metadata": {},
   "outputs": [],
   "source": [
    "def run_visual_chat(images, messages, max_new_tokens=128):\n",
    "    input_text = processor.apply_chat_template(messages, add_generation_prompt=True)\n",
    "    inputs = processor(images=images, text=input_text, return_tensors=\"pt\").to(device)\n",
    "    with torch.inference_mode():\n",
    "        output = model.generate(**inputs, max_new_tokens=max_new_tokens)\n",
    "    return tokenizer.decode(output[0], skip_special_tokens=True).strip()"
   ]
  },
  {
   "cell_type": "code",
   "execution_count": null,
   "id": "2d2f3572-e7e6-4c28-87ff-0de274e3df5d",
   "metadata": {},
   "outputs": [],
   "source": [
    "def batch_process_images(url_list, task_function):\n",
    "    results = {}\n",
    "    for url in url_list:\n",
    "        results[url] = task_function(url)\n",
    "    return results"
   ]
  },
  {
   "cell_type": "code",
   "execution_count": null,
   "id": "64429bcd-d4c6-4c3d-904d-a421fe218b48",
   "metadata": {},
   "outputs": [],
   "source": [
    "def cache_embedding(url, embedding, cache_file='embeddings_cache.pkl'):\n",
    "    if os.path.exists(cache_file):\n",
    "        with open(cache_file, 'rb') as f:\n",
    "            cache = pickle.load(f)\n",
    "    else:\n",
    "        cache = {}\n",
    "    cache[url] = embedding\n",
    "    with open(cache_file, 'wb') as f:\n",
    "        pickle.dump(cache, f)"
   ]
  },
  {
   "cell_type": "code",
   "execution_count": null,
   "id": "b6b0db67-1ec7-4027-be2f-905e6c6d7c0b",
   "metadata": {},
   "outputs": [],
   "source": [
    "def summarize_batch_results(results_dict):\n",
    "    combined_text = \"\\n\".join([f\"{url}: {result}\" for url, result in results_dict.items()])\n",
    "    messages = [{\"role\": \"user\", \"content\": f\"Summarize these image analyses:\\n{combined_text}\"}]\n",
    "    summary = run_visual_chat(None, messages, max_new_tokens=256)\n",
    "    print(\"Batch Summary:\\n\", summary)"
   ]
  },
  {
   "cell_type": "code",
   "execution_count": null,
   "id": "241a8c9f-9246-40a9-8b39-7b2822f2997c",
   "metadata": {},
   "outputs": [],
   "source": [
    "def cluster_images(urls, n_clusters=3):\n",
    "    embeddings = [get_image_embedding(url).cpu().numpy().flatten() for url in urls if get_image_embedding(url) is not None]\n",
    "    kmeans = KMeans(n_clusters=n_clusters).fit(embeddings)\n",
    "    clusters = {url: int(label) for url, label in zip(urls, kmeans.labels_)}\n",
    "    print(\"Image clusters:\", clusters)"
   ]
  },
  {
   "cell_type": "code",
   "execution_count": null,
   "id": "fd5bc2a6-8bf1-4f21-b3e2-aa04e785ac28",
   "metadata": {},
   "outputs": [],
   "source": [
    "def detect_objects(image_url):\n",
    "    image = load_image_from_url(image_url)\n",
    "    if image:\n",
    "        detections = object_detector(image)\n",
    "        print(\"Detections:\", detections)"
   ]
  },
  {
   "cell_type": "code",
   "execution_count": null,
   "id": "9d772433-052e-4673-85f7-aa75c29727f3",
   "metadata": {},
   "outputs": [],
   "source": [
    "def detect_emotions(image_url):\n",
    "    image = load_image_from_url(image_url)\n",
    "    if image:\n",
    "        emotions = emotion_classifier(image)\n",
    "        print(\"Detected Emotions:\", emotions)"
   ]
  },
  {
   "cell_type": "code",
   "execution_count": null,
   "id": "b51b6392-f8f0-476c-a8a8-a1bc43d930c2",
   "metadata": {},
   "outputs": [],
   "source": []
  },
  {
   "cell_type": "code",
   "execution_count": null,
   "id": "a5d02be2-4b2d-45a9-9c2a-03eb7923a507",
   "metadata": {},
   "outputs": [],
   "source": []
  },
  {
   "cell_type": "code",
   "execution_count": null,
   "id": "c2e75a7a-bc47-4592-94ce-14599f821da9",
   "metadata": {},
   "outputs": [],
   "source": []
  }
 ],
 "metadata": {
  "kernelspec": {
   "display_name": "Python [conda env:base] *",
   "language": "python",
   "name": "conda-base-py"
  },
  "language_info": {
   "codemirror_mode": {
    "name": "ipython",
    "version": 3
   },
   "file_extension": ".py",
   "mimetype": "text/x-python",
   "name": "python",
   "nbconvert_exporter": "python",
   "pygments_lexer": "ipython3",
   "version": "3.12.7"
  }
 },
 "nbformat": 4,
 "nbformat_minor": 5
}
